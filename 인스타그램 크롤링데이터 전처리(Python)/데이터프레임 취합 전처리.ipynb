{
 "cells": [
  {
   "cell_type": "code",
   "execution_count": 1,
   "metadata": {},
   "outputs": [],
   "source": [
    "import pandas as pd\n",
    "import numpy as np"
   ]
  },
  {
   "cell_type": "code",
   "execution_count": 4,
   "metadata": {},
   "outputs": [],
   "source": [
    "import os\n",
    "import glob"
   ]
  },
  {
   "cell_type": "code",
   "execution_count": 20,
   "metadata": {},
   "outputs": [
    {
     "name": "stdout",
     "output_type": "stream",
     "text": [
      "['C:\\\\Users\\\\smhrd\\\\인공지능4차\\\\전지전능\\\\인스타그램 크롤링하기\\\\insta_train_food.csv', 'C:\\\\Users\\\\smhrd\\\\인공지능4차\\\\전지전능\\\\인스타그램 크롤링하기\\\\insta_train_instafood.csv', 'C:\\\\Users\\\\smhrd\\\\인공지능4차\\\\전지전능\\\\인스타그램 크롤링하기\\\\insta_train_맛스타.csv', 'C:\\\\Users\\\\smhrd\\\\인공지능4차\\\\전지전능\\\\인스타그램 크롤링하기\\\\insta_train_맛집.csv', 'C:\\\\Users\\\\smhrd\\\\인공지능4차\\\\전지전능\\\\인스타그램 크롤링하기\\\\insta_train_먹방.csv', 'C:\\\\Users\\\\smhrd\\\\인공지능4차\\\\전지전능\\\\인스타그램 크롤링하기\\\\insta_train_술스타그램.csv']\n"
     ]
    }
   ],
   "source": [
    "path='C:\\\\Users\\smhrd\\인공지능4차\\전지전능\\인스타그램 크롤링하기' # csv파일 위치경로\n",
    "file_list = glob.glob(os.path.join(path, 'insta_train_*')) # insta_train_으로 시작하는 파일 모음\n",
    "print(file_list) # 확인하기"
   ]
  },
  {
   "cell_type": "code",
   "execution_count": 14,
   "metadata": {},
   "outputs": [],
   "source": [
    "## csv 파일들을 DataFrame으로 불러와서 concat\n",
    "allData = [] # 읽어 들인 csv파일 내용을 저장할 빈 리스트\n",
    "for file in file_list:\n",
    "    df = pd.read_csv(file, engine='python') # for구문으로 csv파일 읽어들임\n",
    "    allData.append(df) # 빈 리스트에 읽어 들인 내용 추가"
   ]
  },
  {
   "cell_type": "code",
   "execution_count": 18,
   "metadata": {},
   "outputs": [],
   "source": [
    "dataCombine = pd.concat(allData, axis=0, ignore_index=True) # concat함수를 이용해서 리스트의 내용병합"
   ]
  },
  {
   "cell_type": "code",
   "execution_count": 19,
   "metadata": {},
   "outputs": [],
   "source": [
    "dataCombine.to_csv(\"result.csv\", index=False, encoding = 'euc-kr') # 합친 csv저장 "
   ]
  },
  {
   "cell_type": "code",
   "execution_count": null,
   "metadata": {},
   "outputs": [],
   "source": []
  }
 ],
 "metadata": {
  "kernelspec": {
   "display_name": "Python 3",
   "language": "python",
   "name": "python3"
  },
  "language_info": {
   "codemirror_mode": {
    "name": "ipython",
    "version": 3
   },
   "file_extension": ".py",
   "mimetype": "text/x-python",
   "name": "python",
   "nbconvert_exporter": "python",
   "pygments_lexer": "ipython3",
   "version": "3.8.5"
  }
 },
 "nbformat": 4,
 "nbformat_minor": 4
}
