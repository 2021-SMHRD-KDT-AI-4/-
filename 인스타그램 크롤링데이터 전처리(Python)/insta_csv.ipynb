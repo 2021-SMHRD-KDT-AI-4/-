{
 "cells": [
  {
   "cell_type": "code",
   "execution_count": null,
   "metadata": {},
   "outputs": [],
   "source": [
    "!pip install pytimekr"
   ]
  },
  {
   "cell_type": "code",
   "execution_count": null,
   "metadata": {},
   "outputs": [],
   "source": [
    "import pandas as pd\n",
    "import numpy as np\n",
    "import time\n",
    "import datetime as dt\n",
    "from pytimekr import pytimekr\n",
    "import os\n",
    "import glob\n",
    "from sklearn.feature_extraction.text import TfidfVectorizer, CountVectorizer\n",
    "from collections import Counter\n",
    "import ast"
   ]
  },
  {
   "cell_type": "code",
   "execution_count": null,
   "metadata": {},
   "outputs": [],
   "source": [
    "path='C:\\\\Users\\smhrd\\머신러닝_김세나' # csv파일 위치경로\n",
    "file_list = glob.glob(os.path.join(path, 'insta_train_*')) # insta_train_으로 시작하는 파일 모음\n",
    "print(file_list) # 확인하기"
   ]
  },
  {
   "cell_type": "code",
   "execution_count": null,
   "metadata": {},
   "outputs": [],
   "source": [
    "## csv 파일들을 DataFrame으로 불러와서 concat\n",
    "allData = [] # 읽어 들인 csv파일 내용을 저장할 빈 리스트\n",
    "for file in file_list:\n",
    "    df = pd.read_csv(file, engine='python') # for구문으로 csv파일 읽어들임\n",
    "    allData.append(df) # 빈 리스트에 읽어 들인 내용 추가"
   ]
  },
  {
   "cell_type": "code",
   "execution_count": null,
   "metadata": {},
   "outputs": [],
   "source": [
    "dataCombine = pd.concat(allData, axis=0, ignore_index=True) # concat함수를 이용해서 리스트의 내용병합"
   ]
  },
  {
   "cell_type": "code",
   "execution_count": null,
   "metadata": {},
   "outputs": [],
   "source": [
    "dataCombine.to_csv(\"insta_합침.csv\", index=False, encoding = 'euc-kr') # 합친 csv저장 "
   ]
  },
  {
   "cell_type": "code",
   "execution_count": null,
   "metadata": {},
   "outputs": [],
   "source": [
    "insta = pd.read_csv('insta_합침.csv',encoding=\"euc-kr\",index_col=False)  \n",
    "insta  "
   ]
  },
  {
   "cell_type": "code",
   "execution_count": null,
   "metadata": {},
   "outputs": [],
   "source": [
    "insta = insta.drop_duplicates() # 중복제거\n",
    "insta"
   ]
  },
  {
   "cell_type": "code",
   "execution_count": null,
   "metadata": {},
   "outputs": [],
   "source": [
    "upload_day = insta.iloc[:,3] # 업로드 날짜 \n",
    "upload_day"
   ]
  },
  {
   "cell_type": "code",
   "execution_count": null,
   "metadata": {},
   "outputs": [],
   "source": [
    "# 시간대 만들기\n",
    "upload_time_list = []\n",
    "upload_time = insta.iloc[:,4]\n",
    "for time in upload_time:\n",
    "    r_time = time.replace(\":\",'')\n",
    "    upload_time_list.append(int(r_time[:2]))\n",
    "insta[\"업로드시간대\"] = upload_time_list"
   ]
  },
  {
   "cell_type": "code",
   "execution_count": null,
   "metadata": {},
   "outputs": [],
   "source": [
    "# 업로드 시간대를 0시~1시 는 1시, 2시~3시는 3시 이런식으로 바꿔주는 함수 bin함수하고 비슷\n",
    "\n",
    "def bining_time(x):\n",
    "    if 2>x>= 0:\n",
    "        return 1\n",
    "    elif 4>x >= 2:\n",
    "        return 3\n",
    "    elif 6> x >=4:\n",
    "        return 5\n",
    "    elif 8> x >= 6:\n",
    "        return 7\n",
    "    elif 10>x >= 8:\n",
    "        return 9\n",
    "    elif 12>x >= 10:\n",
    "        return 11\n",
    "    elif 14>x >= 12 :\n",
    "        return 13\n",
    "    elif 16>x >= 14:\n",
    "        return 15\n",
    "    elif 18>x>=16:\n",
    "        return 17\n",
    "    elif 20>x >= 18:\n",
    "        return 19\n",
    "    elif 22>x >= 20:\n",
    "        return 21\n",
    "    else :\n",
    "        return 23"
   ]
  },
  {
   "cell_type": "code",
   "execution_count": null,
   "metadata": {},
   "outputs": [],
   "source": [
    "insta['업로드시간대'] = insta['업로드시간대'].apply(bining_time)"
   ]
  },
  {
   "cell_type": "code",
   "execution_count": null,
   "metadata": {},
   "outputs": [],
   "source": [
    "# 업로들 날짜를 요일로 변경\n",
    "total_day_week = [\"월요일\",'화요일','수요일','목요일','금요일','토요일','일요일']\n",
    "day_week_list = []\n",
    "for day in upload_day:\n",
    "    day_ = dt.datetime.strptime(day,'%Y-%m-%d')\n",
    "    weekday_ = dt.datetime.weekday(day_)\n",
    "    \n",
    "    day_week_list.append(total_day_week[weekday_])\n",
    "insta['업로드요일'] = day_week_list"
   ]
  },
  {
   "cell_type": "code",
   "execution_count": null,
   "metadata": {},
   "outputs": [],
   "source": [
    "# 공휴일 유무 (어린이날,석가탄신일) 차후 다른 공휴일 있으면 넣어주면됨(?)\n",
    "# 5302 오류가 나오는것같다 이부분은 확인하기\n",
    "insta['공휴일유무'] = None\n",
    "for i in range(len(upload_day)):\n",
    "    if upload_day[i] in '2021-05-05': # 어린이날\n",
    "        insta['공휴일유무'][i]= 1\n",
    "    elif upload_day[i] in '2021-05-19': # 석가탄신일\n",
    "        insta['공휴일유무'][i] = 1\n",
    "    elif upload_day[i] in '2021-06-06': # 현충일\n",
    "        insta['공휴일유무'][i] = 1\n",
    "    elif upload_day[i] in '2021-03-01': # 삼일절\n",
    "        insta['공휴일유무'][i] = 1\n",
    "    else : \n",
    "        insta['공휴일유무'][i] = 0 "
   ]
  },
  {
   "cell_type": "code",
   "execution_count": null,
   "metadata": {},
   "outputs": [],
   "source": [
    "# 필요없는 컬럼 삭제(업로드 날짜, 업로드 시간)\n",
    "del insta[\"업로드 날짜\"]\n",
    "del insta[\"업로드 시간\"]"
   ]
  },
  {
   "cell_type": "code",
   "execution_count": null,
   "metadata": {},
   "outputs": [],
   "source": [
    "insta"
   ]
  },
  {
   "cell_type": "code",
   "execution_count": null,
   "metadata": {},
   "outputs": [],
   "source": [
    "hash_num = insta.iloc[:,5] # 해시태그 \n",
    "hash_num"
   ]
  },
  {
   "cell_type": "code",
   "execution_count": null,
   "metadata": {},
   "outputs": [],
   "source": [
    "# 해시개수 추가\n",
    "hash_num_list = []\n",
    "for i in hash_num :\n",
    "    num_ = i.replace(\"[\",\"\").replace(\"]\",\"\").replace(\"'\",\"\").split(',')\n",
    "    hash_num_list.append(num_)\n",
    "insta['해시태그개수'] =hash_num_list"
   ]
  },
  {
   "cell_type": "code",
   "execution_count": null,
   "metadata": {},
   "outputs": [],
   "source": [
    "for i in range (len(hash_num_list)) :\n",
    "    insta['해시태그개수'][i] = len(hash_num_list[i])"
   ]
  },
  {
   "cell_type": "code",
   "execution_count": null,
   "metadata": {},
   "outputs": [],
   "source": [
    "insta"
   ]
  },
  {
   "cell_type": "code",
   "execution_count": null,
   "metadata": {},
   "outputs": [],
   "source": [
    "insta['해시태그'] = insta['해시태그'].apply(lambda x: ast.literal_eval(x))\n",
    "# df를 불러왔을 때 list를 값으로 갖는 column은 string 형태로 불러와지므로 list로 바꿔줌"
   ]
  },
  {
   "cell_type": "code",
   "execution_count": null,
   "metadata": {},
   "outputs": [],
   "source": [
    "insta['해시태그']"
   ]
  },
  {
   "cell_type": "code",
   "execution_count": null,
   "metadata": {},
   "outputs": [],
   "source": [
    "insta"
   ]
  },
  {
   "cell_type": "code",
   "execution_count": null,
   "metadata": {},
   "outputs": [],
   "source": [
    "corpus = []\n",
    "for i in insta['해시태그']:\n",
    "    corpus.append(' '.join(i))"
   ]
  },
  {
   "cell_type": "code",
   "execution_count": null,
   "metadata": {},
   "outputs": [],
   "source": [
    "corpus"
   ]
  },
  {
   "cell_type": "code",
   "execution_count": null,
   "metadata": {},
   "outputs": [],
   "source": [
    "c = {}\n",
    "for i in insta['해시태그']:\n",
    "    for word in i:\n",
    "        if word in c:\n",
    "            c[word] += 1\n",
    "        else:\n",
    "            c[word] = 1"
   ]
  },
  {
   "cell_type": "code",
   "execution_count": null,
   "metadata": {},
   "outputs": [],
   "source": [
    "c # 해시태그의 등장 횟수 딕셔너리"
   ]
  },
  {
   "cell_type": "code",
   "execution_count": null,
   "metadata": {},
   "outputs": [],
   "source": [
    "c.values()"
   ]
  },
  {
   "cell_type": "code",
   "execution_count": null,
   "metadata": {},
   "outputs": [],
   "source": [
    "cnt = 0\n",
    "valueList = []\n",
    "for i,j in zip(c.keys(),c.values()):\n",
    "    if j<=10 :  \n",
    "        valueList.append(i)"
   ]
  },
  {
   "cell_type": "code",
   "execution_count": null,
   "metadata": {},
   "outputs": [],
   "source": [
    "cnt = 0\n",
    "cntList = []\n",
    "for hashtag in insta['해시태그'] :\n",
    "    for tag in hashtag:\n",
    "        if tag in valueList:\n",
    "            cntList.append(cnt)\n",
    "            break\n",
    "    cnt+=1   \n",
    "cntList       "
   ]
  },
  {
   "cell_type": "code",
   "execution_count": null,
   "metadata": {},
   "outputs": [],
   "source": [
    "insta = insta.drop(index=cntList, axis=0)"
   ]
  },
  {
   "cell_type": "code",
   "execution_count": null,
   "metadata": {},
   "outputs": [],
   "source": [
    "insta"
   ]
  },
  {
   "cell_type": "code",
   "execution_count": null,
   "metadata": {},
   "outputs": [],
   "source": [
    "insta.to_csv(\"insta_광고제거까지.csv\", index=False, encoding = 'euc-kr')"
   ]
  },
  {
   "cell_type": "code",
   "execution_count": null,
   "metadata": {},
   "outputs": [],
   "source": [
    "insta = pd.read_csv(\"insta_광고제거까지.csv\",  encoding = 'euc-kr')"
   ]
  },
  {
   "cell_type": "code",
   "execution_count": null,
   "metadata": {},
   "outputs": [],
   "source": [
    "# !pip install cmake\n",
    "# !pip install dlib\n",
    "detector = dlib.get_frontal_face_detector()\n",
    "predictor = dlib.shape_predictor('shape_predictor_68_face_landmarks.dat')\n",
    "\n",
    "ALL = list(range(0, 68)) \n",
    "RIGHT_EYEBROW = list(range(17, 22))  \n",
    "LEFT_EYEBROW = list(range(22, 27))  \n",
    "RIGHT_EYE = list(range(36, 42))  \n",
    "LEFT_EYE = list(range(42, 48))  \n",
    "NOSE = list(range(27, 36))  \n",
    "MOUTH_OUTLINE = list(range(48, 61))  \n",
    "MOUTH_INNER = list(range(61, 68)) \n",
    "JAWLINE = list(range(0, 17)) \n",
    "index = ALL"
   ]
  },
  {
   "cell_type": "code",
   "execution_count": null,
   "metadata": {},
   "outputs": [],
   "source": [
    "user_face_size = []\n",
    "user_face_number = []"
   ]
  },
  {
   "cell_type": "code",
   "execution_count": null,
   "metadata": {},
   "outputs": [],
   "source": [
    "for i in tqdm(insta.loc[:,'사진 이름']) :\n",
    "    \n",
    "    cnt = 0\n",
    "    \n",
    "    face_size_list = []\n",
    "    \n",
    "    img_frame = cv.imread(\"./insta_img/{}\".format(i))\n",
    "    img_gray = cv.cvtColor(img_frame, cv.COLOR_BGR2GRAY)\n",
    "\n",
    "    dets = detector(img_gray, 1)\n",
    "\n",
    "    for face in dets:\n",
    "        shape = predictor(img_frame, face) #얼굴에서 68개 점 찾기\n",
    "\n",
    "        list_points = []\n",
    "        for p in shape.parts():\n",
    "            list_points.append([p.x, p.y])\n",
    "        list_points = np.array(list_points)\n",
    "\n",
    "        for i,pt in enumerate(list_points[index]):\n",
    "            pt_pos = (pt[0], pt[1])\n",
    "            cv.circle(img_frame, pt_pos, 2, (0, 255, 0), -1)\n",
    "\n",
    "        cv.rectangle(img_frame, (face.left(), face.top()), (face.right(), face.bottom()),\n",
    "            (0, 0, 255), 3)\n",
    "        face_size_list.append( (face.right()-face.left())*(face.bottom()-face.top()) )\n",
    "        cnt+=1\n",
    "    try:\n",
    "        max_size = max(face_size_list)\n",
    "    except :\n",
    "        max_size = 0\n",
    "    \n",
    "    user_face_number.append(cnt)\n",
    "    user_face_size.append(max_size)"
   ]
  },
  {
   "cell_type": "code",
   "execution_count": null,
   "metadata": {},
   "outputs": [],
   "source": [
    "insta.to_csv(\"insta_dlib.csv\", index=False, encoding = 'euc-kr')"
   ]
  },
  {
   "cell_type": "code",
   "execution_count": null,
   "metadata": {},
   "outputs": [],
   "source": []
  },
  {
   "cell_type": "code",
   "execution_count": null,
   "metadata": {},
   "outputs": [],
   "source": []
  },
  {
   "cell_type": "code",
   "execution_count": null,
   "metadata": {},
   "outputs": [],
   "source": []
  },
  {
   "cell_type": "code",
   "execution_count": null,
   "metadata": {},
   "outputs": [],
   "source": []
  }
 ],
 "metadata": {
  "kernelspec": {
   "display_name": "Python 3",
   "language": "python",
   "name": "python3"
  },
  "language_info": {
   "codemirror_mode": {
    "name": "ipython",
    "version": 3
   },
   "file_extension": ".py",
   "mimetype": "text/x-python",
   "name": "python",
   "nbconvert_exporter": "python",
   "pygments_lexer": "ipython3",
   "version": "3.8.5"
  }
 },
 "nbformat": 4,
 "nbformat_minor": 4
}
