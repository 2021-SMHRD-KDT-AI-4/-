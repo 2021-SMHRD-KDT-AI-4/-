{
 "cells": [
  {
   "cell_type": "code",
   "execution_count": null,
   "metadata": {},
   "outputs": [],
   "source": [
    "from selenium import webdriver as wb # 브라우저를 제어하기 위한 도구\n",
    "from selenium.webdriver.common.keys import Keys # 키보드 제어\n",
    "import time # 시간 딜레이를 위한 모듈\n",
    "from bs4 import BeautifulSoup as bs\n",
    "from datetime import timedelta\n",
    "import datetime\n",
    "from urllib.request import urlretrieve\n",
    "from selenium.webdriver.support.ui import WebDriverWait\n",
    "from selenium.webdriver.support import expected_conditions as EC\n",
    "from selenium.webdriver.common.by import By\n",
    "import re\n",
    "import random\n",
    "import json \n",
    "import pandas as pd"
   ]
  },
  {
   "cell_type": "markdown",
   "metadata": {},
   "source": [
    "인스타그램 로그인 코드"
   ]
  },
  {
   "cell_type": "code",
   "execution_count": null,
   "metadata": {},
   "outputs": [],
   "source": [
    "# 인스타그램 로그인 할 아이디와 비밀번호\n",
    "login_id = \"login_id\"\n",
    "login_pw = \"login_pw\""
   ]
  },
  {
   "cell_type": "code",
   "execution_count": null,
   "metadata": {},
   "outputs": [],
   "source": [
    "# 크롬드라이버 부르기\n",
    "driver = wb.Chrome()\n",
    "\n",
    "# 로그인 페이지로 이동\n",
    "login_url = \"https://www.instagram.com/accounts/login/\"\n",
    "driver.get(login_url)\n",
    "time.sleep(2)\n",
    "# 아이디 입력\n",
    "id_form = driver.find_element_by_css_selector('#loginForm > div > div:nth-child(1) > div > label > input')\n",
    "time.sleep(2)\n",
    "id_form.send_keys(login_id)\n",
    "time.sleep(2)\n",
    "# 비밀번호 입력\n",
    "pw_form = driver.find_element_by_css_selector('#loginForm > div > div:nth-child(2) > div > label > input')\n",
    "pw_form.send_keys(login_pw)\n",
    "time.sleep(2)\n",
    "pw_form.send_keys(Keys.ENTER)\n",
    "time.sleep(2)"
   ]
  },
  {
   "cell_type": "markdown",
   "metadata": {},
   "source": [
    "해시태그 검색하기"
   ]
  },
  {
   "cell_type": "code",
   "execution_count": null,
   "metadata": {},
   "outputs": [],
   "source": [
    "# 첫번째 사진 클릭\n",
    "def first_img_click() :\n",
    "    first_img_css=\"div.v1Nh3.kIKUG._bz0w\" \n",
    "    driver.find_element_by_css_selector(first_img_css).click()"
   ]
  },
  {
   "cell_type": "code",
   "execution_count": null,
   "metadata": {},
   "outputs": [],
   "source": [
    "next_arrow_btn_css1=\"._65Bje.coreSpriteRightPaginationArrow\" \n",
    "next_arrow_btn_css2=\"._65Bje.coreSpriteRightPaginationArrow\"\n",
    "def next_img_click(error) :\n",
    "    try :\n",
    "        WebDriverWait(driver, 5).until(EC.presence_of_element_located((By.CSS_SELECTOR, next_arrow_btn_css1))) \n",
    "        driver.find_element_by_css_selector(next_arrow_btn_css2).click()  \n",
    "        print(\"==== \",error,\"로 인해 다음으로 넘어가기 ====\")\n",
    "        time.sleep(2)\n",
    "        return(True)\n",
    "    except :\n",
    "        return(False)"
   ]
  },
  {
   "cell_type": "code",
   "execution_count": null,
   "metadata": {},
   "outputs": [],
   "source": [
    "# 해시태그로 검색\n",
    "keyword = \"일상\"\n",
    "driver.get(\"https://www.instagram.com/explore/tags/\"+keyword)\n",
    "time.sleep(5)\n",
    "first_img_click()"
   ]
  },
  {
   "cell_type": "code",
   "execution_count": null,
   "metadata": {},
   "outputs": [],
   "source": [
    "upload_id_object_css=\"div.e1e1d > span.Jv7Aj.MqpiF > a.sqdOP.yWX7d._8A5w5.ZIAjV \" "
   ]
  },
  {
   "cell_type": "code",
   "execution_count": null,
   "metadata": {
    "scrolled": true
   },
   "outputs": [],
   "source": [
    "location_infos = [] \n",
    "location_hrefs = [] \n",
    "upload_ids = [] \n",
    "count_extract = 0 \n",
    "# 몇개 수집할 것인지 정하기\n",
    "wish_num = 100\n",
    "check_arrow = True \n",
    "\n",
    "while True: \n",
    "    if count_extract > wish_num: \n",
    "        print(\"==== \",wish_num,\"개 만큼 수집 완료 ====\")\n",
    "        break \n",
    "        time.sleep(5.0) \n",
    "        \n",
    "    if check_arrow == False: \n",
    "        print(\"check_arrow == false\")\n",
    "        break \n",
    "        \n",
    "        \n",
    "    # 올린사람 ID  수집\n",
    "    try: \n",
    "        upload_id_object = driver.find_element_by_css_selector(upload_id_object_css) \n",
    "        upload_id = upload_id_object.text \n",
    "        print(upload_id)\n",
    "        upload_ids.append(upload_id) \n",
    "    except: \n",
    "        upload_id = None \n",
    "    \n",
    "    \n",
    "    # 다음으로 클릭\n",
    "    try: \n",
    "        WebDriverWait(driver, 100).until(EC.presence_of_element_located((By.CSS_SELECTOR, next_arrow_btn_css1))) \n",
    "        driver.find_element_by_css_selector(next_arrow_btn_css2).click() \n",
    "        time.sleep(1)\n",
    "                    \n",
    "    except: \n",
    "        check_arrow = False \n",
    "                    \n",
    "    count_extract += 1\n"
   ]
  },
  {
   "cell_type": "code",
   "execution_count": null,
   "metadata": {},
   "outputs": [],
   "source": [
    "uk_upload_ids = []\n",
    "for v in upload_ids:\n",
    "    if v not in uk_upload_ids:\n",
    "        uk_upload_ids.append(v)"
   ]
  },
  {
   "cell_type": "markdown",
   "metadata": {},
   "source": [
    "수집하기"
   ]
  },
  {
   "cell_type": "code",
   "execution_count": null,
   "metadata": {},
   "outputs": [],
   "source": [
    "today = datetime.datetime.now()\n",
    "week_ago= today - timedelta(days = 7)\n",
    "three_months_ago = today - timedelta(days = 30*3)"
   ]
  },
  {
   "cell_type": "code",
   "execution_count": null,
   "metadata": {},
   "outputs": [],
   "source": [
    "profile_object_select = '.g47SY'\n",
    "location_object_css=\"div.o-MQd.z8cbW > div.M30cS > div.JF9hh > a.O4GlU\" \n",
    "date_object_css=\"div.k_Q0X.NnvRN > a.c-Yi7 > time._1o9PC.Nzb55\" \n",
    "comment_click_css = \"\"\n",
    "tag_css = '.XQXOT.pXf-y'\n",
    "comment_more_btn='span.EizgU'\n",
    "tag_css = '.XQXOT.pXf-y'\n",
    "img_css = 'div > div > div.KL4Bh > img'\n",
    "like_css = '.Nm9Fw span'\n",
    "account_tag_css = 'div.xUdfV'\n",
    "place_tag_css = 'a.O4GlU'"
   ]
  },
  {
   "cell_type": "code",
   "execution_count": null,
   "metadata": {},
   "outputs": [],
   "source": [
    "check_arrow = True"
   ]
  },
  {
   "cell_type": "code",
   "execution_count": null,
   "metadata": {
    "scrolled": true
   },
   "outputs": [],
   "source": [
    "insta_data = []\n",
    "cnt = 0\n",
    "for user_id in uk_upload_ids :\n",
    "    no_hashtag =0\n",
    "    post_cnt = 0\n",
    "    cnt += 1\n",
    "    print(\"\\n===\",user_id,\" 크롤링 시작  (\",cnt,\"번째 ) ===\")\n",
    "    try:\n",
    "        driver.get(\"https://www.instagram.com/\"+user_id)\n",
    "        profile_html = bs(driver.page_source,'html.parser')\n",
    "        time.sleep(3)\n",
    "        user_info = profile_html.select(profile_object_select)\n",
    "\n",
    "        # 게시물 수, 팔로워수, 팔로우수\n",
    "        user_total = int(user_info[0].text.replace(',',''))\n",
    "        user_follower = int(user_info[1]['title'].replace(',',''))\n",
    "        user_follow = int(user_info[2].text.replace(',',''))\n",
    "\n",
    "        check_arrow = True\n",
    "        count_extract = 1\n",
    "\n",
    "        first_img_click()\n",
    "        time.sleep(5)\n",
    "\n",
    "        while True:\n",
    "            \n",
    "            count_extract += 1\n",
    "            if user_follower>10000 :\n",
    "                break\n",
    "\n",
    "            # 다음 게시물이 없으면 멈추기\n",
    "            if check_arrow == False: \n",
    "                print(\"==== \",user_id, \"의 모든 게시물 크롤링 완료 ==== \")\n",
    "                break \n",
    "\n",
    "            # 시간 수집\n",
    "            try :\n",
    "                date_object = driver.find_element_by_css_selector(date_object_css) \n",
    "                time.sleep(2)\n",
    "                date_time = date_object.get_attribute(\"datetime\")\n",
    "                time_dt = datetime.datetime.strptime(date_time,'%Y-%m-%dT%H:%M:%S.%fZ') +  timedelta(hours = 9)  # 9시간 차이\n",
    "                user_post_day = time_dt.strftime('%Y-%m-%d')\n",
    "                user_post_time = time_dt.strftime('%H:%M:%S')\n",
    "            except :\n",
    "                    check_arrow = next_img_click(\"시간 수집\") \n",
    "                    continue\n",
    "\n",
    "\n",
    "            if(time_dt<three_months_ago) :\n",
    "                print(user_id, \" ==== 3개월보다 오래되어 break ====\")\n",
    "                break\n",
    "\n",
    "            if not (time_dt<=week_ago and three_months_ago<=time_dt) : \n",
    "                check_arrow = next_img_click(\"시간 조건\")\n",
    "                continue       \n",
    "\n",
    "            # 댓글 더보기 클릭\n",
    "            try : \n",
    "                view = driver.find_elements_by_css_selector(comment_more_btn)\n",
    "                for i in view :\n",
    "                    i.click()        \n",
    "                    time.sleep(0.5)\n",
    "            except:\n",
    "                check_arrow = next_img_click(\"댓글 더보기\") \n",
    "                continue\n",
    "\n",
    "            # 태그 수집\n",
    "            try: \n",
    "                user_hash_tags = []\n",
    "                time.sleep(3)\n",
    "                data = driver.find_element_by_css_selector(tag_css) # C7I1f X7jCj \n",
    "                time.sleep(3)\n",
    "                tag_raw = data.text \n",
    "                tag = re.findall('#[A-Za-z0-9가-힣]+', tag_raw) \n",
    "                if not tag :  # 해시태그가 하나도 없다면\n",
    "                    check_arrow = next_img_click(\"해시태그 없음\") \n",
    "                    no_hashtag+=1\n",
    "                    if(no_hashtag >= 8) :\n",
    "                        print(\"==== 해시태그 없는 게시물이 많아 break ====\")\n",
    "                        break # 해시태그 없는 게시물이 8번 정도 있으면 break\n",
    "                    continue   # 크롤링을 멈춘다\n",
    "                tag = ''.join(tag).replace(\"#\",\" \") # \"#\" 제거\n",
    "                user_hash_tags = tag.split()\n",
    "            except: \n",
    "                check_arrow = next_img_click(\"해시태그\") \n",
    "                continue\n",
    "\n",
    "            # 위치 수집\n",
    "            try: \n",
    "                location_object = driver.find_element_by_css_selector(location_object_css) \n",
    "                user_place_tags = 1\n",
    "                print(user_id, \" == 위치 : \" ,user_place_tags)\n",
    "            except: \n",
    "                user_place_tags = 0 \n",
    "                print(user_id, \" === 위치 : \" ,user_place_tags)\n",
    "\n",
    "\n",
    "            # 계정  태그 수\n",
    "            try:\n",
    "                account_object = driver.find_elements_by_css_selector(account_tag_css)\n",
    "                user_account_tags = len(account_object)\n",
    "                print(user_id, \" == 계정  태그 수 : \" ,user_account_tags)\n",
    "            except: \n",
    "                check_arrow = next_img_click(\"계정 태그\")        \n",
    "                continue\n",
    "\n",
    "\n",
    "\n",
    "            # 좋아요 수집\n",
    "            try:\n",
    "                like_object = driver.find_element_by_css_selector(like_css)\n",
    "                like = like_object.text\n",
    "                user_like = int(like)\n",
    "                print(user_id, \" == 좋아요 수 : \", user_like)\n",
    "            except:\n",
    "                check_arrow = next_img_click(\"좋아요\") \n",
    "                continue\n",
    "\n",
    "            try:\n",
    "                if(post_cnt > 10) :\n",
    "                    print(\"==== 10개 수집 완료하여 break ====\")\n",
    "                    break\n",
    "                img_object = driver.find_element_by_css_selector(img_css) \n",
    "                time.sleep(2)\n",
    "                img_href = img_object.get_attribute(\"src\") \n",
    "                img_name = '{}_{}.png'.format(user_id,count_extract)\n",
    "                urlretrieve(img_href,'./insta_img/{}'.format(img_name))\n",
    "                print(user_id, \" ==== 사진 저장 성공 ====\")\n",
    "                post_cnt += 1\n",
    "                \n",
    "            except:  \n",
    "                check_arrow = next_img_click(\"사진 수집\") \n",
    "                continue\n",
    "\n",
    "            user_data = [user_id, user_follower, user_follow, user_post_day, user_post_time, user_place_tags, user_account_tags, user_hash_tags,img_name,user_like]\n",
    "            insta_data.append(user_data)\n",
    "\n",
    "            print(\"\\n===========결과===========\")\n",
    "            for i in user_data :\n",
    "                print(i,end=\" / \")\n",
    "            print(\"\\n=========================\")\n",
    "            # 다음으로 넘어가기\n",
    "            check_arrow = next_img_click(\"수집 완료\") \n",
    "    except:\n",
    "            print(\"=== 비공개 계정으로 다음 계정으로 ===\")\n",
    "        \n",
    "        \n"
   ]
  },
  {
   "cell_type": "code",
   "execution_count": null,
   "metadata": {},
   "outputs": [],
   "source": [
    "insta_data_df = pd.DataFrame(insta_data, columns=['ID','팔로워','팔로우','업로드 날짜','업로드 시간','장소 태그 여부','계정 태그 여부','해시태그','사진 이름','좋아요 수'])\n",
    "insta_data_df"
   ]
  },
  {
   "cell_type": "code",
   "execution_count": null,
   "metadata": {},
   "outputs": [],
   "source": [
    "# csv로 저장하기\n",
    "insta_data_df.to_csv(\"insta_train_{}.csv\".format(keyword), index=False, encoding = 'euc-kr')"
   ]
  }
 ],
 "metadata": {
  "kernelspec": {
   "display_name": "Python 3",
   "language": "python",
   "name": "python3"
  },
  "language_info": {
   "codemirror_mode": {
    "name": "ipython",
    "version": 3
   },
   "file_extension": ".py",
   "mimetype": "text/x-python",
   "name": "python",
   "nbconvert_exporter": "python",
   "pygments_lexer": "ipython3",
   "version": "3.8.5"
  }
 },
 "nbformat": 4,
 "nbformat_minor": 4
}
